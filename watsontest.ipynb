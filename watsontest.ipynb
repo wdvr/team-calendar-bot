{
 "cells": [
  {
   "cell_type": "code",
   "execution_count": 1,
   "metadata": {},
   "outputs": [],
   "source": [
    "from watson_developer_cloud import AssistantV1\n",
    "import settings\n",
    "from events import VacationEvent\n",
    "import requests"
   ]
  },
  {
   "cell_type": "code",
   "execution_count": 2,
   "metadata": {},
   "outputs": [],
   "source": [
    "assistant = AssistantV1(\n",
    "    iam_apikey=settings.WATSON_API_KEY,\n",
    "    url=settings.WATSON_URL,\n",
    "    version='2018-07-10')"
   ]
  },
  {
   "cell_type": "code",
   "execution_count": 3,
   "metadata": {},
   "outputs": [],
   "source": [
    "workspace_id = settings.WATSON_WORKSPACE_ID # replace with workspace ID"
   ]
  },
  {
   "cell_type": "code",
   "execution_count": 4,
   "metadata": {},
   "outputs": [],
   "source": [
    "def askWatson(message, context=None):\n",
    "    response = assistant.message(\n",
    "    workspace_id = workspace_id,\n",
    "    input = {\n",
    "        'text': message,\n",
    "    },\n",
    "        context = context\n",
    "    )\n",
    "    if response.result['intents']:\n",
    "        print('Detected intent: #' + response.result['intents'][0]['intent'])\n",
    "    print(response.result['output']['text'])\n",
    "    print(response.result['context'])\n",
    "    return response.result['context']"
   ]
  },
  {
   "cell_type": "code",
   "execution_count": 5,
   "metadata": {},
   "outputs": [
    {
     "name": "stdout",
     "output_type": "stream",
     "text": [
      "Detected intent: #createvacation\n",
      "['Why will you be off?']\n",
      "{'date': '2018-09-28', 'system': {'_node_output_map': {}, 'dialog_request_counter': 1, 'dialog_stack': [{'dialog_node': 'slot_4_1537990326560', 'state': 'in_progress'}], 'dialog_turn_counter': 1}, 'conversation_id': 'ea4233dc-1e6f-4100-9f91-5ce7b2bc1266'}\n"
     ]
    }
   ],
   "source": [
    "context = askWatson('I will be off tomorrow')"
   ]
  },
  {
   "cell_type": "code",
   "execution_count": 7,
   "metadata": {},
   "outputs": [
    {
     "name": "stdout",
     "output_type": "stream",
     "text": [
      "Detected intent: #createvacation\n",
      "['Ok, I understood that you are off due to working from home, on (2018-09-28 - ).']\n",
      "{'vacationtype': 'working from home', 'date': '2018-09-28', 'system': {'_node_output_map': {'node_2_1537981284953': {'0': [0, 1, 0]}}, 'branch_exited_reason': 'completed', 'branch_exited': True, 'dialog_request_counter': 2, 'dialog_stack': [{'dialog_node': 'root'}], 'dialog_turn_counter': 2}, 'conversation_id': 'ea4233dc-1e6f-4100-9f91-5ce7b2bc1266'}\n"
     ]
    },
    {
     "data": {
      "text/plain": [
       "{'conversation_id': 'ea4233dc-1e6f-4100-9f91-5ce7b2bc1266',\n",
       " 'date': '2018-09-28',\n",
       " 'system': {'_node_output_map': {'node_2_1537981284953': {'0': [0, 1, 0]}},\n",
       "  'branch_exited': True,\n",
       "  'branch_exited_reason': 'completed',\n",
       "  'dialog_request_counter': 2,\n",
       "  'dialog_stack': [{'dialog_node': 'root'}],\n",
       "  'dialog_turn_counter': 2},\n",
       " 'vacationtype': 'working from home'}"
      ]
     },
     "execution_count": 7,
     "metadata": {},
     "output_type": "execute_result"
    }
   ],
   "source": [
    "askWatson('I am working from home', context)"
   ]
  },
  {
   "cell_type": "code",
   "execution_count": 8,
   "metadata": {},
   "outputs": [
    {
     "name": "stdout",
     "output_type": "stream",
     "text": [
      "Detected intent: #createvacation\n",
      "['Ok, I understood that you are off due to working from home, on (2018-09-28 - ).']\n",
      "{'vacationtype': 'working from home', 'date': '2018-09-28', 'system': {'_node_output_map': {'node_2_1537981284953': {'0': [0, 1, 0]}}, 'branch_exited_reason': 'completed', 'branch_exited': True, 'dialog_request_counter': 1, 'dialog_stack': [{'dialog_node': 'root'}], 'dialog_turn_counter': 1}, 'conversation_id': '428956b8-558e-4b71-a5ad-d883ab70e814'}\n"
     ]
    },
    {
     "data": {
      "text/plain": [
       "{'conversation_id': '428956b8-558e-4b71-a5ad-d883ab70e814',\n",
       " 'date': '2018-09-28',\n",
       " 'system': {'_node_output_map': {'node_2_1537981284953': {'0': [0, 1, 0]}},\n",
       "  'branch_exited': True,\n",
       "  'branch_exited_reason': 'completed',\n",
       "  'dialog_request_counter': 1,\n",
       "  'dialog_stack': [{'dialog_node': 'root'}],\n",
       "  'dialog_turn_counter': 1},\n",
       " 'vacationtype': 'working from home'}"
      ]
     },
     "execution_count": 8,
     "metadata": {},
     "output_type": "execute_result"
    }
   ],
   "source": [
    "askWatson(\"Tomorrow I'll work from home\")"
   ]
  },
  {
   "cell_type": "code",
   "execution_count": 9,
   "metadata": {},
   "outputs": [
    {
     "name": "stdout",
     "output_type": "stream",
     "text": [
      "Detected intent: #todayholidays\n",
      "[]\n",
      "{'system': {'branch_exited': True, 'branch_exited_reason': 'completed', 'dialog_request_counter': 1, 'dialog_stack': [{'dialog_node': 'root'}], 'dialog_turn_counter': 1}, 'conversation_id': '12a290d1-6124-48cf-a29f-2c3f429e3069'}\n"
     ]
    },
    {
     "data": {
      "text/plain": [
       "{'conversation_id': '12a290d1-6124-48cf-a29f-2c3f429e3069',\n",
       " 'system': {'branch_exited': True,\n",
       "  'branch_exited_reason': 'completed',\n",
       "  'dialog_request_counter': 1,\n",
       "  'dialog_stack': [{'dialog_node': 'root'}],\n",
       "  'dialog_turn_counter': 1}}"
      ]
     },
     "execution_count": 9,
     "metadata": {},
     "output_type": "execute_result"
    }
   ],
   "source": [
    "askWatson(\"Who is in the office today?\")"
   ]
  },
  {
   "cell_type": "code",
   "execution_count": 10,
   "metadata": {},
   "outputs": [
    {
     "name": "stdout",
     "output_type": "stream",
     "text": [
      "Detected intent: #thisweeksholidays\n",
      "[]\n",
      "{'system': {'branch_exited': True, 'branch_exited_reason': 'completed', 'dialog_request_counter': 1, 'dialog_stack': [{'dialog_node': 'root'}], 'dialog_turn_counter': 1}, 'conversation_id': '89d7574d-fb13-4fe5-8bf8-69e02321563b'}\n"
     ]
    },
    {
     "data": {
      "text/plain": [
       "{'conversation_id': '89d7574d-fb13-4fe5-8bf8-69e02321563b',\n",
       " 'system': {'branch_exited': True,\n",
       "  'branch_exited_reason': 'completed',\n",
       "  'dialog_request_counter': 1,\n",
       "  'dialog_stack': [{'dialog_node': 'root'}],\n",
       "  'dialog_turn_counter': 1}}"
      ]
     },
     "execution_count": 10,
     "metadata": {},
     "output_type": "execute_result"
    }
   ],
   "source": [
    "askWatson(\"Who is out this week?\")"
   ]
  },
  {
   "cell_type": "code",
   "execution_count": 11,
   "metadata": {},
   "outputs": [],
   "source": [
    "import re"
   ]
  },
  {
   "cell_type": "code",
   "execution_count": 12,
   "metadata": {},
   "outputs": [
    {
     "name": "stdout",
     "output_type": "stream",
     "text": [
      "yes\n"
     ]
    }
   ],
   "source": [
    "if re.match(\"^(hi|hey|hello)?\\s*\"+settings.BOT_NAME, \"calendarbot\", re.IGNORECASE):\n",
    "    print(\"yes\")\n",
    "else:\n",
    "    print(\"no\")"
   ]
  },
  {
   "cell_type": "code",
   "execution_count": 13,
   "metadata": {},
   "outputs": [],
   "source": [
    "import json\n",
    "\n",
    "vacation = VacationEvent(user='wouter.devriendt', type='Working from home', start_date='2018-09-28', end_date='2018-09-28')"
   ]
  },
  {
   "cell_type": "code",
   "execution_count": 14,
   "metadata": {},
   "outputs": [
    {
     "name": "stdout",
     "output_type": "stream",
     "text": [
      "{\"draggable\": true, \"resizable\": {\"afterEnd\": true, \"beforeStart\": true}, \"color\": {\"secondary\": \"\", \"primary\": \"\"}, \"title\": \"\", \"type\": \"Working from home\", \"start\": \"2018-09-28T04:00:00.000Z\", \"user\": \"wouter.devriendt\", \"end\": \"2018-09-28T03:59:59.999Z\"}\n"
     ]
    }
   ],
   "source": [
    "v = vacation.toJSON()\n",
    "print(v)"
   ]
  },
  {
   "cell_type": "code",
   "execution_count": 15,
   "metadata": {},
   "outputs": [],
   "source": [
    "json_data= {\"user\": \"wouter.devriendt\", \"draggable\": True, \"start\": \"2018-09-28T04:00:00.000Z\", \"end\": \"2018-09-28T03:59:59.999Z\", \"resizable\": {\"afterEnd\": True, \"beforeStart\": True}, \"type\": \"Working from home\", \"title\": \"\"}"
   ]
  },
  {
   "cell_type": "code",
   "execution_count": 16,
   "metadata": {},
   "outputs": [
    {
     "name": "stdout",
     "output_type": "stream",
     "text": [
      "{'draggable': True, 'resizable': {'beforeStart': True, 'afterEnd': True}, 'title': '', 'type': 'Working from home', 'start': '2018-09-28T04:00:00.000Z', 'user': 'wouter.devriendt', 'end': '2018-09-28T03:59:59.999Z'}\n"
     ]
    }
   ],
   "source": [
    "print(json_data)"
   ]
  },
  {
   "cell_type": "code",
   "execution_count": 17,
   "metadata": {},
   "outputs": [],
   "source": [
    "v = json.loads(vacation.toJSON())"
   ]
  },
  {
   "cell_type": "code",
   "execution_count": 18,
   "metadata": {},
   "outputs": [
    {
     "name": "stdout",
     "output_type": "stream",
     "text": [
      "<Response [201]>\n"
     ]
    }
   ],
   "source": [
    "response = requests.post(settings.TEAM_CALENDAR_API_URL+'/events', json=v)\n",
    "print(response)"
   ]
  }
 ],
 "metadata": {
  "kernelspec": {
   "display_name": "Python 3",
   "language": "python",
   "name": "python3"
  },
  "language_info": {
   "codemirror_mode": {
    "name": "ipython",
    "version": 3
   },
   "file_extension": ".py",
   "mimetype": "text/x-python",
   "name": "python",
   "nbconvert_exporter": "python",
   "pygments_lexer": "ipython3",
   "version": "3.5.2"
  }
 },
 "nbformat": 4,
 "nbformat_minor": 2
}
