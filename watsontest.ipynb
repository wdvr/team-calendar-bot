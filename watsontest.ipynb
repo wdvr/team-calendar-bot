{
 "cells": [
  {
   "cell_type": "code",
   "execution_count": 2,
   "metadata": {},
   "outputs": [],
   "source": [
    "from watson_developer_cloud import AssistantV1\n",
    "import settings"
   ]
  },
  {
   "cell_type": "code",
   "execution_count": 3,
   "metadata": {},
   "outputs": [],
   "source": [
    "assistant = AssistantV1(\n",
    "    iam_apikey=settings.WATSON_API_KEY,\n",
    "    url=settings.WATSON_URL,\n",
    "    version='2018-07-10')"
   ]
  },
  {
   "cell_type": "code",
   "execution_count": 4,
   "metadata": {},
   "outputs": [],
   "source": [
    "workspace_id = settings.WATSON_WORKSPACE_ID # replace with workspace ID"
   ]
  },
  {
   "cell_type": "code",
   "execution_count": 57,
   "metadata": {},
   "outputs": [],
   "source": [
    "def askWatson(message, context=None):\n",
    "    response = assistant.message(\n",
    "    workspace_id = workspace_id,\n",
    "    input = {\n",
    "        'text': message,\n",
    "    },\n",
    "        context = context\n",
    "    )\n",
    "    if response.result['intents']:\n",
    "        print('Detected intent: #' + response.result['intents'][0]['intent'])\n",
    "    print(response.result['output']['text'])\n",
    "    return response.result['context']"
   ]
  },
  {
   "cell_type": "code",
   "execution_count": 58,
   "metadata": {},
   "outputs": [
    {
     "name": "stdout",
     "output_type": "stream",
     "text": [
      "Detected intent: #createvacation\n",
      "['Why will you be off?']\n"
     ]
    }
   ],
   "source": [
    "context = askWatson('I will be off tomorrow')"
   ]
  },
  {
   "cell_type": "code",
   "execution_count": 60,
   "metadata": {},
   "outputs": [
    {
     "name": "stdout",
     "output_type": "stream",
     "text": [
      "Detected intent: #createvacation\n",
      "['I added your unavailability (2018-09-28 - ) due to work from home.']\n"
     ]
    },
    {
     "data": {
      "text/plain": [
       "{'conversation_id': '66941f79-27b7-476b-bd6f-89f04cb11906',\n",
       " 'date': '2018-09-28',\n",
       " 'system': {'_node_output_map': {'node_2_1537981284953': {'0': [0]}},\n",
       "  'branch_exited': True,\n",
       "  'branch_exited_reason': 'completed',\n",
       "  'dialog_request_counter': 2,\n",
       "  'dialog_stack': [{'dialog_node': 'root'}],\n",
       "  'dialog_turn_counter': 2},\n",
       " 'vacationtype': 'work from home'}"
      ]
     },
     "execution_count": 60,
     "metadata": {},
     "output_type": "execute_result"
    }
   ],
   "source": [
    "askWatson('I am working from home', context)"
   ]
  },
  {
   "cell_type": "code",
   "execution_count": 29,
   "metadata": {},
   "outputs": [
    {
     "name": "stdout",
     "output_type": "stream",
     "text": [
      "Detected intent: #createvacation\n",
      "I added your unavailability (2018-09-28 - ) due to work from home.\n"
     ]
    }
   ],
   "source": [
    "askWatson(\"Tomorrow I'll work from home\")"
   ]
  },
  {
   "cell_type": "code",
   "execution_count": 33,
   "metadata": {},
   "outputs": [
    {
     "name": "stdout",
     "output_type": "stream",
     "text": [
      "Detected intent: #todayholidays\n",
      "[]\n"
     ]
    }
   ],
   "source": [
    "askWatson(\"Who is in the office today?\")"
   ]
  },
  {
   "cell_type": "code",
   "execution_count": 61,
   "metadata": {},
   "outputs": [
    {
     "name": "stdout",
     "output_type": "stream",
     "text": [
      "Detected intent: #thisweeksholidays\n",
      "[]\n"
     ]
    },
    {
     "data": {
      "text/plain": [
       "{'conversation_id': 'a4631936-a886-49b2-8e66-1f0a0fedc91f',\n",
       " 'system': {'branch_exited': True,\n",
       "  'branch_exited_reason': 'completed',\n",
       "  'dialog_request_counter': 1,\n",
       "  'dialog_stack': [{'dialog_node': 'root'}],\n",
       "  'dialog_turn_counter': 1}}"
      ]
     },
     "execution_count": 61,
     "metadata": {},
     "output_type": "execute_result"
    }
   ],
   "source": [
    "askWatson(\"Who is out this week?\")"
   ]
  }
 ],
 "metadata": {
  "kernelspec": {
   "display_name": "Python 3",
   "language": "python",
   "name": "python3"
  },
  "language_info": {
   "codemirror_mode": {
    "name": "ipython",
    "version": 3
   },
   "file_extension": ".py",
   "mimetype": "text/x-python",
   "name": "python",
   "nbconvert_exporter": "python",
   "pygments_lexer": "ipython3",
   "version": "3.5.2"
  }
 },
 "nbformat": 4,
 "nbformat_minor": 2
}
